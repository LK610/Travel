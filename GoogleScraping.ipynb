{
 "cells": [
  {
   "cell_type": "markdown",
   "metadata": {},
   "source": [
    "# Google Scraping\n",
    "This script is intended to scrape data from Google Maps with the purposes of collecting basic information about regions and locations\n",
    "Download the most recent version of the Chrome driver: https://chromedriver.chromium.org/downloads"
   ]
  },
  {
   "cell_type": "code",
   "execution_count": 14,
   "metadata": {},
   "outputs": [],
   "source": [
    "# IMPORT PACKAGES\n",
    "import arcpy\n",
    "import os\n",
    "\n",
    "from selenium import webdriver\n",
    "from selenium.webdriver.common.by import By\n",
    "\n",
    "import logging\n",
    "logging.basicConfig(format='%(asctime)s - %(message)s', level=logging.INFO)\n",
    "\n",
    "# ABOUT THE TARGET GEODATABASE\n",
    "sr = arcpy.SpatialReference(4326)\n",
    "\n",
    "fldr = r\"C:\\Users\\Laura\\Documents\\Keepsakes\\Travel\\TravelMaster\"\n",
    "name = r\"Scratch\"\n",
    "gdb = os.path.join(fldr, (name + \".gdb\"))"
   ]
  },
  {
   "cell_type": "markdown",
   "metadata": {},
   "source": [
    "## Functions"
   ]
  },
  {
   "cell_type": "code",
   "execution_count": 15,
   "metadata": {},
   "outputs": [],
   "source": [
    "# Get the element at a relative xpath and attribute, returns empty string on failure\n",
    "def getElement(browser, xpath, attribute):\n",
    "    try:\n",
    "        element = browser.find_element_by_xpath(xpath).get_attribute(attribute).strip()\n",
    "\n",
    "        if len(element) == 0:\n",
    "            return \"\"\n",
    "        else:\n",
    "            return(element)\n",
    "\n",
    "    except:\n",
    "        return \"\"\n",
    "\n",
    "# Scrape a Google Maps URL to return latitude and longitude as a list\n",
    "def findCoordinates(url):\n",
    "    coords = url.split(\"/@\")\n",
    "    coords = coords[1].split(\",17z\")[0]\n",
    "    coords = coords.split(\",\")\n",
    "    return coords[0:2]\n",
    "\n",
    "def getName(browser):\n",
    "    return getElement(browser, '//*[contains(@class, \"DUwDvf\")]', \"innerText\")\n",
    "\n",
    "def getLocalName(browser):\n",
    "    \n",
    "    localname = getElement(browser, '//*[contains(@class, \"bwoZTb\")]', \"innerText\")\n",
    "    \n",
    "    if len(localname) == 0:\n",
    "            return getName(browser)\n",
    "    else:\n",
    "        return localname\n",
    "\n",
    "def getImageLink(browser):\n",
    "    return getElement(browser, '//*[contains(@class, \"aoRNLd\")]//img[1]', \"src\")\n",
    "\n",
    "def getSimpleDesc(browser):\n",
    "    return getElement(browser, '//*[contains(@class, \"PYvSYb\")]', \"innerText\")\n",
    "\n",
    "def getLocationType(browser):\n",
    "    return getElement(browser, '//*[contains(@class, \"DkEaL u6ijk\")]', \"innerText\")\n",
    "\n",
    "def getAddress(browser):\n",
    "    return getElement(browser, '//*[contains(@data-item-id, \"address\")]', \"innerText\")\n",
    "\n",
    "def getPhone(browser):\n",
    "    return getElement(browser, '//*[contains(@data-item-id, \"phone\")]', \"innerText\")"
   ]
  },
  {
   "cell_type": "code",
   "execution_count": 16,
   "metadata": {},
   "outputs": [],
   "source": [
    "regions = os.path.join(gdb, 'Regions')\n",
    "fields = ['Reg_Name', 'Reg_LocalName', 'Reg_ImgLink', 'Country_ISO']\n",
    "\n",
    "# Create update cursor for feature class \n",
    "with arcpy.da.UpdateCursor(regions, fields) as cursor:\n",
    "    for row in cursor:\n",
    "\n",
    "        # Open web driver and navigate to the page\n",
    "        browser = webdriver.Chrome(\"C:\\chromedriver-win32\\chromedriver.exe\")\n",
    "        browser.get(\"https://www.google.com/maps\")\n",
    "        search_box = browser.find_element_by_xpath(\"//input[@id='searchboxinput']\")\n",
    "        search_box.send_keys(str(row[0] + ', ' + row[3]))\n",
    "        browser.find_element_by_id(\"searchbox-searchbutton\").click()\n",
    "        browser.implicitly_wait(10)\n",
    "        \n",
    "        # Get the local name\n",
    "        locName = getLocalName(browser)\n",
    "        locString = [int(i) for i in locName.split() if i.isdigit()]\n",
    "        if locName == None or len(locString) > 0:\n",
    "            row[1] = row[0]\n",
    "        else:\n",
    "            row[1] = locName\n",
    "        \n",
    "        # Get image link\n",
    "        img = getImageLink(browser)\n",
    "        if img == None or \"default_geocode\" in img ==True:\n",
    "            row[2] = None\n",
    "        elif len(img) > 350:\n",
    "            row[2] = 'Error'\n",
    "        else:\n",
    "            row[2] = img\n",
    "        \n",
    "        # Update the cursor with the updated list\n",
    "        cursor.updateRow(row)\n",
    "        browser.close()"
   ]
  },
  {
   "cell_type": "code",
   "execution_count": null,
   "metadata": {},
   "outputs": [],
   "source": []
  }
 ],
 "metadata": {
  "kernelspec": {
   "display_name": "ArcGISPro",
   "language": "Python",
   "name": "python3"
  },
  "language_info": {
   "file_extension": ".py",
   "name": "python",
   "version": "3"
  }
 },
 "nbformat": 4,
 "nbformat_minor": 2
}

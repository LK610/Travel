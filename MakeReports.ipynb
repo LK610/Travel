{
 "cells": [
  {
   "cell_type": "markdown",
   "metadata": {},
   "source": [
    "# Generate Reports\n",
    "**Filename:** GenerateReports.ipynb <br>\n",
    "**Author:** Laura Kaufmann <br>\n",
    "**Purpose:** To automate the generation of essential reports prior to departure, including Safety Cards, the Itinerary for Emergency Contacts and daily itinerary elements<br>\n",
    "**Methods:**<br>\n",
    "- Create data tables and feature classes formatted in ways that support the map series driven SafetyCard_ layouts <br>\n",
    "- Truncate and append the newly calculated data to the existing feature classes in the Reporting database which are already connected to the SafetyCard_ layouts <br>\n",
    "- Script the export of the SafetyCard_ layouts to PDF formats <br>\n",
    "- Script the merging of the exported PDFs to support printing <br>\n",
    "\n",
    "**Resources:**<br>\n",
    "- [ESRI's Introduction to Spatially Enabled Dataframes](https://developers.arcgis.com/python/guide/part1-introduction-to-sedf/)\n",
    "- [Community question about generating a table from a dataframe](https://community.esri.com/t5/arcgis-pro-questions/convert-data-frame-to-stand-alone-table/td-p/1091036)\n",
    "- [Community question about an error generating a table from a dataframe](https://community.esri.com/t5/python-questions/arcpy-da-numpyarraytotable-returns-quot/m-p/1027773/highlight/true#M60021)\n",
    "- [ESRI's Documentation on Dynamic Text](https://pro.arcgis.com/en/pro-app/3.1/help/layouts/add-dynamic-text.htm)\n",
    "\n",
    "|Date|Editor|Changes|\n",
    "|---|---|---|\n",
    "|11/11/2023|L. Kaufmann|File created|\n",
    "|11/20/2023|L. Kaufmann|Updates Regions and GatheringPlaces in Reporting|\n",
    "||||"
   ]
  },
  {
   "cell_type": "markdown",
   "metadata": {},
   "source": [
    "## Packages and Functions"
   ]
  },
  {
   "cell_type": "code",
   "execution_count": 2,
   "metadata": {},
   "outputs": [
    {
     "name": "stderr",
     "output_type": "stream",
     "text": [
      "2023-11-21 16:14:39,535 - NumExpr defaulting to 8 threads.\n",
      "2023-11-21 16:14:44,025 - Packages imported; ready to begin\n"
     ]
    }
   ],
   "source": [
    "# Import packages\n",
    "import logging\n",
    "logging.basicConfig(format='%(asctime)s - %(message)s', level=logging.INFO)\n",
    "\n",
    "import arcpy\n",
    "from arcgis.features import GeoAccessor, GeoSeriesAccessor\n",
    "from arcgis.geometry import Geometry\n",
    "\n",
    "import pandas as pd\n",
    "from pandas import Series, DataFrame\n",
    "import numpy as np\n",
    "\n",
    "import os\n",
    "import pyodbc\n",
    "import sqlalchemy\n",
    "\n",
    "# GEODATABASES\n",
    "sr = arcpy.SpatialReference(3857)\n",
    "arcpy.env.overwriteOutput = True\n",
    "\n",
    "fldr = r\"C:\\Users\\Laura\\Documents\\Keepsakes\\Travel\\TravelMaster\"\n",
    "scratch = os.path.join(fldr, r\"Scratch.gdb\")\n",
    "reporting = os.path.join(fldr, r\"Reporting.gdb\")\n",
    "\n",
    "# SOURCE FEATURE CLASSES\n",
    "tripsFC = r\"C:\\Users\\Laura\\AppData\\Roaming\\Esri\\ArcGISPro\\Favorites\\Travel_DEV.sde\\Travel_DEV.DBO.Trips\"\n",
    "tripFields = ['Trip_ID', 'TripStage']\n",
    "\n",
    "regionsFC = r\"C:\\Users\\Laura\\AppData\\Roaming\\Esri\\ArcGISPro\\Favorites\\Travel_DEV.sde\\Travel_DEV.DBO.Regions\"\n",
    "\n",
    "locationsFC = r\"C:\\Users\\Laura\\AppData\\Roaming\\Esri\\ArcGISPro\\Favorites\\Travel_DEV.sde\\Travel_DEV.DBO.Locations\"\n",
    "\n",
    "# SQL RELATIONAL (via sqlalchemy)\n",
    "sql_conn = \"mssql+pyodbc://DESKTOP-MICQHNR\\SQLEXPRESS/Travel_DEV?trusted_connection=yes&driver=SQL+Server\"\n",
    "engine = sqlalchemy.create_engine(sql_conn)\n",
    "\n",
    "logging.info('Packages imported; ready to begin')"
   ]
  },
  {
   "cell_type": "code",
   "execution_count": 3,
   "metadata": {},
   "outputs": [],
   "source": [
    "# Function to read SQL qry into a dataframe and write to the Reporting geodatabase\n",
    "def updateReporting(fc, qry):\n",
    "    logging.info('Beginning {}'.format(fc))\n",
    "\n",
    "    # Define variables\n",
    "    scratchTbl = os.path.join(scratch, fc)\n",
    "    reportingTbl = os.path.join(reporting, fc)\n",
    "\n",
    "    df = pd.read_sql(qry, con=engine) \n",
    "    df = df.fillna('')\n",
    "\n",
    "    # Create the table in the scratch workspace\n",
    "    dfArray = df.values\n",
    "    npstruct = np.rec.fromrecords(dfArray)\n",
    "    colnames = df.dtypes.index.tolist()\n",
    "    npstruct.dtype.names = tuple(colnames)\n",
    "    arcpy.da.NumPyArrayToTable(npstruct, scratchTbl)\n",
    "\n",
    "    logging.info('SQL data read into a NumPy array')\n",
    "\n",
    "    # Truncate and append in the reporting workspace\n",
    "    arcpy.management.TruncateTable(in_table=reportingTbl)\n",
    "    arcpy.management.Append(\n",
    "        inputs=scratchTbl,\n",
    "        target=reportingTbl,\n",
    "        schema_type=\"TEST_AND_SKIP\",\n",
    "        field_mapping=None,\n",
    "        subtype=\"\",\n",
    "        expression=\"\",\n",
    "        match_fields=None,\n",
    "        update_geometry=\"NOT_UPDATE_GEOMETRY\"\n",
    "    )\n",
    "\n",
    "    # Delete the scratch table\n",
    "    arcpy.management.Delete(in_data=scratchTbl, data_type=\"\")\n",
    "\n",
    "    logging.info('{} updated in the Reporting geodatabase'.format(fc))\n",
    "\n",
    "# Function to create the near table and join back participating featureclasses to retain attributes\n",
    "def generateNear(locQry):\n",
    "    inFC = locQry.spatial.to_featureclass(os.path.join(scratch, \"inFC\"))\n",
    "    \n",
    "    nearTable = arcpy.analysis.GenerateNearTable(\n",
    "        in_features=regionsScratch,\n",
    "        near_features=inFC,\n",
    "        out_table=os.path.join(scratch, \"NearTable\"),\n",
    "        search_radius=None,\n",
    "        location=\"NO_LOCATION\",\n",
    "        angle=\"NO_ANGLE\",\n",
    "        closest=\"ALL\",\n",
    "        closest_count=len(locations.index),\n",
    "        method=\"GEODESIC\",\n",
    "        distance_unit=\"Miles\"\n",
    "    )\n",
    "    \n",
    "    arcpy.management.JoinField(\n",
    "        in_data=nearTable,\n",
    "        in_field=\"NEAR_FID\",\n",
    "        join_table=inFC,\n",
    "        join_field=\"OBJECTID\",\n",
    "        fields=\"loc_reg_id;location_id;loc_type;loc_name;loc_local_name;loc_street_address;loc_phone;loc_desc;loc_interest;loc_website;loc_img_link\",\n",
    "        fm_option=\"NOT_USE_FM\",\n",
    "        field_mapping=None,\n",
    "        index_join_fields=\"NO_INDEXES\"\n",
    "    )\n",
    "    \n",
    "    arcpy.management.JoinField(\n",
    "        in_data=nearTable,\n",
    "        in_field=\"IN_FID\",\n",
    "        join_table=regionsScratch,\n",
    "        join_field=\"OBJECTID\",\n",
    "        fields=\"region_id;reg_name;reg_parent\",\n",
    "        fm_option=\"NOT_USE_FM\",\n",
    "        field_mapping=None,\n",
    "        index_join_fields=\"NO_INDEXES\"\n",
    "    )\n",
    "\n",
    "# Function to append records to the GatheringPlaces table and delete intermediate data\n",
    "def appendNear(nearTable, inFC):\n",
    "    arcpy.management.Append(\n",
    "        inputs=nearTable,\n",
    "        target=rptGathering,\n",
    "        schema_type=\"TEST_AND_SKIP\",\n",
    "        field_mapping=None,\n",
    "        subtype=\"\",\n",
    "        expression=\"\",\n",
    "        match_fields=None,\n",
    "        update_geometry=\"NOT_UPDATE_GEOMETRY\"\n",
    "    )\n",
    "    \n",
    "    arcpy.management.Delete(in_data=inFC, data_type=\"\")\n",
    "    arcpy.management.Delete(in_data=nearTable, data_type=\"\")"
   ]
  },
  {
   "cell_type": "markdown",
   "metadata": {},
   "source": [
    "## Create data and append to Reporting"
   ]
  },
  {
   "cell_type": "markdown",
   "metadata": {
    "heading_collapsed": true
   },
   "source": [
    "### Contacts (from the Travelers module)"
   ]
  },
  {
   "cell_type": "code",
   "execution_count": 40,
   "metadata": {
    "hidden": true
   },
   "outputs": [
    {
     "name": "stderr",
     "output_type": "stream",
     "text": [
      "2023-11-11 17:40:06,664 - Beginning SC_Contacts\n",
      "2023-11-11 17:40:06,804 - SQL data read into a NumPy array\n",
      "2023-11-11 17:40:19,391 - SC_Contacts updated in the Reporting geodatabase\n"
     ]
    }
   ],
   "source": [
    "scContacts = r\"SC_Contacts\"\n",
    "\n",
    "contactsTbl = \"\"\"\n",
    "SELECT dbo.TRAVELERS.FirstName AS Sort\n",
    "\t , '<BOL>' + dbo.TRAVELERS.FirstName + ' ' + dbo.TRAVELERS.LastName + '</BOL>' as ContactName\n",
    "\t , '<BOL>' + dbo.TRAVELERS.USPhone + '</BOL>' AS Phone\n",
    "FROM dbo.TRIPS INNER JOIN\n",
    "             dbo.TRAVELERS ON dbo.TRIPS.Trip_ID = dbo.TRAVELERS.Trip_ID\n",
    "WHERE (dbo.TRIPS.TripStage = N'Actively Planning')\n",
    "\n",
    "UNION\n",
    "\n",
    "SELECT dbo.TRAVELERS.FirstName + CAST(dbo.TRAVELERS_CONTACTS.OBJECTID AS nvarchar) AS Sort\n",
    "\t , '     ' + dbo.TRAVELERS_CONTACTS.EC_FirstName + ' ' + dbo.TRAVELERS_CONTACTS.EC_LastName AS ContactName\n",
    "\t , dbo.TRAVELERS_CONTACTS.EC_Phone AS Phone\n",
    "FROM   dbo.TRIPS INNER JOIN\n",
    "            dbo.TRAVELERS ON dbo.TRIPS.Trip_ID = dbo.TRAVELERS.Trip_ID INNER JOIN\n",
    "\t\t\tdbo.TRAVELERS_CONTACTS ON dbo.TRAVELERS.Traveler_ID = dbo.TRAVELERS_CONTACTS.Traveler_ID\n",
    "WHERE (dbo.TRIPS.TripStage = N'Actively Planning')\n",
    "\"\"\"\n",
    "updateReporting(scContacts, contactsTbl)"
   ]
  },
  {
   "cell_type": "code",
   "execution_count": 19,
   "metadata": {
    "hidden": true
   },
   "outputs": [
    {
     "name": "stderr",
     "output_type": "stream",
     "text": [
      "2023-11-12 16:25:26,051 - Beginning IEC_Profiles\n",
      "2023-11-12 16:25:26,163 - SQL data read into a NumPy array\n",
      "2023-11-12 16:25:31,670 - SC_Contacts updated in the Reporting geodatabase\n"
     ]
    }
   ],
   "source": [
    "iecProfiles = r\"IEC_Profiles\"\n",
    "\n",
    "profilesQry = \"\"\"\n",
    "SELECT dbo.TRAVELERS.Traveler_ID\n",
    "     , dbo.TRAVELERS.FirstName + ' ' + dbo.TRAVELERS.LastName AS Name\n",
    "     , dbo.TRAVELERS.Role\n",
    "     , dbo.TRAVELERS.USPhone\n",
    "     , dbo.TRAVELERS.Email\n",
    "     , dbo.TRAVELERS.Traveler_ImgFile\n",
    "     , STRING_AGG ( dbo.TRAVELERS_FACTS.Fact, '\\n' )\n",
    "FROM dbo.TRAVELERS \n",
    "    LEFT OUTER JOIN\n",
    "        dbo.TRAVELERS_FACTS ON dbo.TRAVELERS.Traveler_ID = dbo.TRAVELERS_FACTS.Traveler_ID \n",
    "    INNER JOIN\n",
    "        dbo.TRIPS ON dbo.TRAVELERS.Trip_ID = dbo.TRIPS.Trip_ID\n",
    "WHERE (dbo.TRIPS.TripStage = N'Actively Planning')\n",
    "GROUP BY dbo.TRAVELERS.Traveler_ID\n",
    "     , dbo.TRAVELERS.FirstName\n",
    "\t , dbo.TRAVELERS.LastName\n",
    "     , dbo.TRAVELERS.Role\n",
    "     , dbo.TRAVELERS.USPhone\n",
    "     , dbo.TRAVELERS.Email\n",
    "     , dbo.TRAVELERS.Traveler_ImgFile\n",
    "\"\"\"\n",
    "\n",
    "updateReporting(iecProfiles, profilesQry)"
   ]
  },
  {
   "cell_type": "code",
   "execution_count": 20,
   "metadata": {
    "hidden": true
   },
   "outputs": [
    {
     "name": "stderr",
     "output_type": "stream",
     "text": [
      "2023-11-12 16:25:38,146 - Beginning IEC_Profiles\n",
      "2023-11-12 16:25:38,263 - SQL data read into a NumPy array\n",
      "2023-11-12 16:25:41,648 - SC_Contacts updated in the Reporting geodatabase\n"
     ]
    }
   ],
   "source": [
    "contactsFC = r\"IEC_Contacts\"\n",
    "\n",
    "contactsQry = \"\"\"\n",
    "SELECT dbo.TRAVELERS.Traveler_ID\n",
    "     , dbo.TRAVELERS.FirstName + N' ' + dbo.TRAVELERS.LastName AS Traveler\n",
    "     , dbo.TRAVELERS_CONTACTS.EC_FirstName + N' ' + dbo.TRAVELERS_CONTACTS.EC_LastName AS Contact\n",
    "     , dbo.TRAVELERS_CONTACTS.EC_Relationship\n",
    "     , dbo.TRAVELERS_CONTACTS.EC_Phone\n",
    "FROM dbo.TRAVELERS \n",
    "        INNER JOIN\n",
    "            dbo.TRIPS ON dbo.TRAVELERS.Trip_ID = dbo.TRIPS.Trip_ID \n",
    "        LEFT OUTER JOIN\n",
    "            dbo.TRAVELERS_CONTACTS ON dbo.TRAVELERS.Traveler_ID = dbo.TRAVELERS_CONTACTS.Traveler_ID\n",
    "WHERE (dbo.TRIPS.TripStage = N'Actively Planning')\n",
    "\"\"\"\n",
    "updateReporting(contactsFC, contactsQry)"
   ]
  },
  {
   "cell_type": "markdown",
   "metadata": {
    "heading_collapsed": true
   },
   "source": [
    "### Taxis (from the Regions module)"
   ]
  },
  {
   "cell_type": "code",
   "execution_count": 41,
   "metadata": {
    "hidden": true
   },
   "outputs": [
    {
     "name": "stderr",
     "output_type": "stream",
     "text": [
      "2023-11-11 17:41:22,963 - Beginning SC_Taxis\n",
      "2023-11-11 17:41:23,078 - SQL data read into a NumPy array\n",
      "2023-11-11 17:41:29,169 - SC_Taxis updated in the Reporting geodatabase\n"
     ]
    }
   ],
   "source": [
    "scTaxis = r\"SC_Taxis\"\n",
    "\n",
    "augTaxis = \"\"\"\n",
    "SELECT dbo.REGIONS.Region_ID\n",
    "     , dbo.REGIONS.Reg_Name\n",
    "     , dbo.REGIONS_TAXIS.CompanyName\n",
    "     , dbo.REGIONS_TAXIS.CompanyPhone\n",
    "FROM dbo.TRIPS INNER JOIN\n",
    "        dbo.REGIONS ON dbo.TRIPS.Trip_ID = dbo.REGIONS.Trip_ID INNER JOIN\n",
    "        dbo.REGIONS_TAXIS ON dbo.REGIONS.Region_ID = dbo.REGIONS_TAXIS.Region_ID\n",
    "WHERE (dbo.TRIPS.TripStage = N'Actively Planning') AND (dbo.REGIONS.Reg_Interest <> N'None')\n",
    "\"\"\"\n",
    "\n",
    "updateReporting(scTaxis, augTaxis)"
   ]
  },
  {
   "cell_type": "markdown",
   "metadata": {
    "heading_collapsed": true
   },
   "source": [
    "### Regions"
   ]
  },
  {
   "cell_type": "code",
   "execution_count": 11,
   "metadata": {
    "hidden": true
   },
   "outputs": [
    {
     "name": "stderr",
     "output_type": "stream",
     "text": [
      "2023-11-21 17:02:19,802 - Regions joined with itinerary dates\n",
      "2023-11-21 17:02:19,831 - Regions joined with countries\n",
      "2023-11-21 17:03:21,125 - Regions exported to scratch for spatial analysis\n"
     ]
    }
   ],
   "source": [
    "logging.info('Beginning Regions processing')\n",
    "\n",
    "# Find the Trip_ID of the active trip\n",
    "with arcpy.da.SearchCursor(tripsFC, tripFields) as cursor:\n",
    "    for row in cursor:\n",
    "        if row[1] == 'Actively Planning':\n",
    "            trip = row[0]\n",
    "\n",
    "# Filter the Region dataframe\n",
    "regions = pd.DataFrame.spatial.from_featureclass(regionsFC)\n",
    "regions = regions.loc[(regions['Trip_ID'] == trip) & (regions['Reg_Interest'] != 'None')]\n",
    "\n",
    "# Join with itinerary dates\n",
    "itineraryDates = \"\"\"\n",
    "SELECT dbo.LOCATIONS.Region_ID\n",
    "     , MIN(dbo.ITINERARY.Start) AS Arrive\n",
    "     , MAX(dbo.ITINERARY.End_) AS Depart\n",
    "FROM  dbo.LOCATIONS \n",
    "     INNER JOIN\n",
    "          dbo.ITINERARY ON dbo.LOCATIONS.Location_ID = dbo.ITINERARY.Reference_ID \n",
    "     INNER JOIN\n",
    "          dbo.REGIONS ON dbo.LOCATIONS.Region_ID = dbo.REGIONS.Region_ID\n",
    "WHERE (dbo.ITINERARY.Event_Type = N'Visit')\n",
    "GROUP BY dbo.LOCATIONS.Region_ID\n",
    "\"\"\"\n",
    "\n",
    "dates = pd.read_sql(itineraryDates, con=engine)\n",
    "dates['Region_ID'] = '{' + dates['Region_ID'] + '}'\n",
    "regions = pd.merge(regions, dates, on=[\"Region_ID\"])\n",
    "regions = regions.sort_values(by=['Arrive'])\n",
    "\n",
    "regions['regParent'] = np.where(regions['Reg_DayTrip'] == 'No', regions['Region_ID'], regions['Region_ID'].shift(1, axis=0))\n",
    "regions\n",
    "\n",
    "logging.info('Regions joined with itinerary dates')\n",
    "\n",
    "# Join with Countries data\n",
    "countriesQry = \"\"\"\n",
    "SELECT dbo.REGIONS_COUNTRIES.Country_ISO\n",
    "     , dbo.REGIONS_COUNTRIES.Ctry_LocalName\n",
    "     , dbo.REGIONS_COUNTRIES.Ctry_Name\n",
    "     , dbo.REGIONS_COUNTRIES.Ctry_Currency\n",
    "     , dbo.REGIONS_COUNTRIES.Ctry_ExchgRate\n",
    "     , dbo.REGIONS_COUNTRIES.Ctry_Injury\n",
    "     , dbo.REGIONS_COUNTRIES.Ctry_NonEmergency\n",
    "     , dbo.REGIONS_COUNTRIES.Ctry_Emergency\n",
    "     , dbo.REGIONS_COUNTRIES.Ctry_TaxiReg\n",
    "     , dbo.REGIONS_COUNTRIES.Ctry_FlagFile\n",
    "     , dbo.REGIONS_COUNTRIES.Ctry_PhoneCode\n",
    "     , dbo.REGIONS_COUNTRIES.Ctry_StateDept\n",
    "FROM dbo.REGIONS_COUNTRIES\n",
    "\"\"\"\n",
    "\n",
    "countries = pd.read_sql(countriesQry, con=engine)\n",
    "regions = pd.merge(regions, countries, on=[\"Country_ISO\"])\n",
    "logging.info('Regions joined with countries')\n",
    "\n",
    "regionsScratch = regions.spatial.to_featureclass(os.path.join(scratch, \"Regions\"))\n",
    "logging.info('Regions exported to scratch for spatial analysis')"
   ]
  },
  {
   "cell_type": "markdown",
   "metadata": {},
   "source": [
    "### ! Gathering Places"
   ]
  },
  {
   "cell_type": "code",
   "execution_count": 13,
   "metadata": {},
   "outputs": [],
   "source": [
    "# Truncate GatheringPlaces table in Reporting\n",
    "rptGathering = os.path.join(reporting, r\"GatheringPlaces\")\n",
    "arcpy.management.TruncateTable(in_table=rptGathering)\n",
    "\n",
    "# List active Region_IDs\n",
    "activeRegions = []\n",
    "with arcpy.da.SearchCursor(regionsScratch, ['Region_ID']) as cursor:\n",
    "    for row in cursor:\n",
    "        activeRegions.append(row[0])\n",
    "\n",
    "# Read and filter the locations featureclass\n",
    "locations = pd.DataFrame.spatial.from_featureclass(locationsFC)\n",
    "locations = locations[locations['Region_ID'].isin(activeRegions)]\n",
    "locations = locations.loc[(locations['Loc_Interest'] != 'None')]\n",
    "locations = locations.rename(columns = {'Region_ID' : 'Loc_Reg_ID'})\n",
    "\n",
    "# Find nearest embassy\n",
    "embassies = locations.loc[(locations['Loc_Type'] == 'Emergency')]\n",
    "generateNear(embassies)\n",
    "appendNear(os.path.join(scratch, \"inFC\"), os.path.join(scratch, \"NearTable\"))"
   ]
  },
  {
   "cell_type": "code",
   "execution_count": 141,
   "metadata": {},
   "outputs": [
    {
     "data": {
      "text/html": [
       "<div class='gpresult'><h2>Messages</h2><div id='messages' data-messages='[\"Start Time: Monday, November 20, 2023 12:26:54 PM\",\"Succeeded at Monday, November 20, 2023 12:26:55 PM (Elapsed Time: 1.11 seconds)\"]' data-show='true'><div id = 'default' /></div></div>"
      ],
      "text/plain": [
       "<Result 'true'>"
      ]
     },
     "execution_count": 141,
     "metadata": {},
     "output_type": "execute_result"
    }
   ],
   "source": [
    "# Find the hotel in the same region\n",
    "hotels = locations.loc[(locations['Loc_Type'] == 'Hotel')]\n",
    "generateNear(hotels)\n",
    "arcpy.analysis.TableSelect(\n",
    "    in_table=\"NearTable\",\n",
    "    out_table=os.path.join(scratch, \"NearTable_Select\"),\n",
    "    where_clause=\"loc_reg_id = region_id\"\n",
    ")\n",
    "\n",
    "# Find Region_IDs with no hotels\n",
    "HotelRegions = []\n",
    "with arcpy.da.SearchCursor(os.path.join(scratch, \"NearTable_Select\"), ['region_id']) as cursor:\n",
    "    for row in cursor:\n",
    "        HotelRegions.append(row[0])\n",
    "        \n",
    "noHotelRegions = []\n",
    "with arcpy.da.SearchCursor(os.path.join(scratch, \"NearTable\"), ['region_id']) as cursor:\n",
    "    for row in cursor:\n",
    "        noHotelRegions.append(row[0])\n",
    "        \n",
    "needPlace = list(set(noHotelRegions) - set(HotelRegions))\n",
    "\n",
    "# Append hotels and delete intermediate data\n",
    "appendNear(os.path.join(scratch, \"inFC\"), os.path.join(scratch, \"NearTable_Select\"))\n",
    "arcpy.management.Delete(in_data=os.path.join(scratch, \"NearTable\"), data_type=\"\")\n",
    "\n",
    "# If no hotel exists, find a transportation hub as the gathering place\n",
    "gatheringType = ['Airport', 'Ferry Port', 'Inter-city Bus', 'Parking', 'Train']\n",
    "gathering = locations[locations['Loc_Reg_ID'].isin(needPlace) & locations['Loc_Type'].isin(gatheringType)]\n",
    "\n",
    "generateNear(gathering)\n",
    "arcpy.analysis.TableSelect(\n",
    "    in_table=\"NearTable\",\n",
    "    out_table=os.path.join(scratch, \"NearTable_Select\"),\n",
    "    where_clause=\"loc_reg_id = region_id\"\n",
    ")\n",
    "\n",
    "# Append gathering places and delete intermediate data\n",
    "appendNear(os.path.join(scratch, \"inFC\"), os.path.join(scratch, \"NearTable_Select\"))\n",
    "arcpy.management.Delete(in_data=os.path.join(scratch, \"NearTable\"), data_type=\"\")"
   ]
  },
  {
   "cell_type": "markdown",
   "metadata": {
    "heading_collapsed": true
   },
   "source": [
    "### IEC_TopDailyAttractions"
   ]
  },
  {
   "cell_type": "code",
   "execution_count": 162,
   "metadata": {
    "hidden": true
   },
   "outputs": [
    {
     "name": "stderr",
     "output_type": "stream",
     "text": [
      "2023-11-20 23:58:21,768 - Beginning IEC_TopDailyAttractions\n",
      "2023-11-20 23:58:21,905 - SQL data read into a NumPy array\n",
      "2023-11-20 23:58:25,650 - IEC_TopDailyAttractions updated in the Reporting geodatabase\n"
     ]
    }
   ],
   "source": [
    "dailyAttractionsFC = \"IEC_TopDailyAttractions\"\n",
    "\n",
    "attractionsQry = \"\"\"\n",
    "SELECT Region_ID\n",
    "\t , Reg_Name\n",
    "\t , Reg_LocalName\n",
    "\t , StartDate\n",
    "\t , STRING_AGG (LocName, '\\n' ) AS Name\n",
    "\t , MAX(CASE WHEN AttractionRank = 1 THEN Loc_ImgLink END) AS ImgLink\n",
    "FROM\n",
    "\t(SELECT Region_ID\n",
    "\t\t , Reg_Name\n",
    "\t\t , Reg_LocalName\n",
    "\t\t , StartDate\n",
    "\t\t , LocName\n",
    "\t\t , Loc_ImgLink\n",
    "\t\t , row_number() over (partition by cast(StartDate as date) order by Interest desc) as AttractionRank\n",
    "\tFROM\n",
    "\t\t(SELECT DISTINCT dbo.REGIONS.Region_ID\n",
    "\t\t\t , dbo.REGIONS.Reg_Name\n",
    "\t\t\t , dbo.REGIONS.Reg_LocalName\n",
    "\t\t\t , cast(dbo.ITINERARY.Start as date) as StartDate\n",
    "\t\t\t , Loc_Name + COALESCE(' (' + Loc_LocalName + ')', '') AS LocName\n",
    "\t\t\t , dbo.LOCATIONS.Loc_ImgLink\n",
    "\t\t\t , ISNULL((SELECT SUM(SURVEYRESULTS.Score) / COUNT(SURVEYRESULTS.Traveler_ID) as 'InterestValue'\n",
    "\t\t\t\t   FROM [Travel_DEV].[dbo].[SURVEYRESULTS]\n",
    "\t\t\t\t   WHERE (SURVEYRESULTS.Feature_ID = LOCATIONS.Location_ID)\n",
    "\t\t\t\t   GROUP BY Feature_ID), (IIF(LOCATIONS.Loc_Interest = 'Low', 2, IIF(LOCATIONS.Loc_Interest = 'Medium', 5, IIF(LOCATIONS.Loc_Interest = 'High', 10, 1))))) AS Interest\n",
    "\t\tFROM dbo.ITINERARY \n",
    "\t\t\t\tINNER JOIN\n",
    "\t\t\t\t\tdbo.LOCATIONS ON dbo.ITINERARY.Reference_ID = dbo.LOCATIONS.Location_ID \n",
    "\t\t\t\tINNER JOIN\n",
    "\t\t\t\t\tdbo.TRIPS \n",
    "\t\t\t\tINNER JOIN\n",
    "\t\t\t\t\tdbo.REGIONS ON dbo.TRIPS.Trip_ID = dbo.REGIONS.Trip_ID ON dbo.LOCATIONS.Region_ID = dbo.REGIONS.Region_ID\n",
    "\t\tWHERE (dbo.TRIPS.TripStage = N'Actively Planning') \n",
    "\t\t\t  AND (dbo.REGIONS.Reg_Interest <> N'None') \n",
    "\t\t\t  AND (dbo.ITINERARY.Event_Type <> N'Transit')\n",
    "\t\t\t  AND (dbo.LOCATIONS.Loc_Type IN ('Historic Site', 'Landmark', 'Market', 'Museum', 'Observation Area', 'Other', 'Religious Site'))) uniqueAttractions) rankedAttractions\n",
    "WHERE (AttractionRank < 6)\n",
    "GROUP BY Region_ID\n",
    "\t   , Reg_Name\n",
    "\t   , Reg_LocalName\n",
    "\t   , StartDate\n",
    "\"\"\"\n",
    "\n",
    "updateReporting(dailyAttractionsFC, attractionsQry)"
   ]
  },
  {
   "cell_type": "code",
   "execution_count": null,
   "metadata": {
    "hidden": true
   },
   "outputs": [],
   "source": [
    "# Title page\n",
    "## Dates of trip\n",
    "# Table of contents\n",
    "## Map\n",
    "## Calendar\n",
    "## Regions"
   ]
  }
 ],
 "metadata": {
  "kernelspec": {
   "display_name": "ArcGISPro",
   "language": "Python",
   "name": "python3"
  },
  "language_info": {
   "file_extension": ".py",
   "name": "python",
   "version": "3"
  }
 },
 "nbformat": 4,
 "nbformat_minor": 2
}
